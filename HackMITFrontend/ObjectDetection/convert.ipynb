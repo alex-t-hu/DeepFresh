{
 "cells": [
  {
   "cell_type": "code",
   "execution_count": 5,
   "metadata": {},
   "outputs": [
    {
     "name": "stdout",
     "output_type": "stream",
     "text": [
      "model version 8\n",
      "new model version 5\n"
     ]
    }
   ],
   "source": [
    "convert2version5 = True\n",
    "if convert2version5:\n",
    "    from torch.jit.mobile import (\n",
    "        _backport_for_mobile,\n",
    "        _get_model_bytecode_version,\n",
    "    )\n",
    "\n",
    "    MODEL_INPUT_FILE = \"/Users/alex/Downloads/HackMIT/yolov5/yolov5s.torchscript.ptl\"\n",
    "    MODEL_OUTPUT_FILE = \"/Users/alex/Downloads/HackMIT/yolov10s.torchscript.ptl\"\n",
    "\n",
    "    print(\"model version\", _get_model_bytecode_version(f_input=MODEL_INPUT_FILE))\n",
    "\n",
    "    _backport_for_mobile(f_input=MODEL_INPUT_FILE, f_output=MODEL_OUTPUT_FILE, to_version=5)\n",
    "\n",
    "    print(\"new model version\", _get_model_bytecode_version(MODEL_OUTPUT_FILE))"
   ]
  },
  {
   "cell_type": "markdown",
   "metadata": {},
   "source": []
  },
  {
   "cell_type": "code",
   "execution_count": 7,
   "metadata": {},
   "outputs": [
    {
     "name": "stdout",
     "output_type": "stream",
     "text": [
      "model version 8\n",
      "new model version 7\n"
     ]
    }
   ],
   "source": [
    "convert2version5 = True\n",
    "if convert2version5:\n",
    "    from torch.jit.mobile import (\n",
    "        _backport_for_mobile,\n",
    "        _get_model_bytecode_version,\n",
    "    )\n",
    "\n",
    "    MODEL_INPUT_FILE = \"/Users/alex/Downloads/yolov5s.torchscript.ptl 2\"\n",
    "    MODEL_OUTPUT_FILE = \"/Users/alex/Downloads/HackMIT/yolov120s.torchscript.ptl\"\n",
    "\n",
    "    print(\"model version\", _get_model_bytecode_version(f_input=MODEL_INPUT_FILE))\n",
    "\n",
    "    _backport_for_mobile(f_input=MODEL_INPUT_FILE, f_output=MODEL_OUTPUT_FILE, to_version=7)\n",
    "\n",
    "    print(\"new model version\", _get_model_bytecode_version(MODEL_OUTPUT_FILE))"
   ]
  },
  {
   "cell_type": "code",
   "execution_count": 2,
   "metadata": {},
   "outputs": [],
   "source": [
    "import torch"
   ]
  },
  {
   "cell_type": "code",
   "execution_count": null,
   "metadata": {},
   "outputs": [],
   "source": []
  },
  {
   "cell_type": "code",
   "execution_count": null,
   "metadata": {},
   "outputs": [],
   "source": []
  }
 ],
 "metadata": {
  "kernelspec": {
   "display_name": "Python 3.9.13 64-bit",
   "language": "python",
   "name": "python3"
  },
  "language_info": {
   "codemirror_mode": {
    "name": "ipython",
    "version": 3
   },
   "file_extension": ".py",
   "mimetype": "text/x-python",
   "name": "python",
   "nbconvert_exporter": "python",
   "pygments_lexer": "ipython3",
   "version": "3.9.13"
  },
  "orig_nbformat": 4,
  "vscode": {
   "interpreter": {
    "hash": "aee8b7b246df8f9039afb4144a1f6fd8d2ca17a180786b69acc140d282b71a49"
   }
  }
 },
 "nbformat": 4,
 "nbformat_minor": 2
}
